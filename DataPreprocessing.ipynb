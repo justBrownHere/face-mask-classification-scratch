{
 "cells": [
  {
   "attachments": {},
   "cell_type": "markdown",
   "metadata": {},
   "source": [
    "# Data Preprocessing"
   ]
  },
  {
   "cell_type": "code",
   "execution_count": 1,
   "metadata": {},
   "outputs": [],
   "source": [
    "import numpy as np\n",
    "from pathlib import Path\n",
    "from keras.preprocessing import image\n",
    "import pickle\n",
    "from sklearn.model_selection import train_test_split\n",
    "import warnings\n",
    "warnings.filterwarnings(action='ignore')\n",
    "import pandas as pd\n",
    "import seaborn as sns\n",
    "import matplotlib.pyplot as plt\n",
    "sns.set_style('whitegrid')"
   ]
  },
  {
   "attachments": {},
   "cell_type": "markdown",
   "metadata": {},
   "source": [
    "## Feature Extraction"
   ]
  },
  {
   "cell_type": "code",
   "execution_count": 2,
   "metadata": {},
   "outputs": [
    {
     "name": "stdout",
     "output_type": "stream",
     "text": [
      "data/IncorrectlyWornMask\n",
      "doc anh thanh cong thu muc: IncorrectlyWornMask\n",
      "data/.DS_Store\n",
      "doc anh thanh cong thu muc: .DS_Store\n",
      "data/WithoutMask\n",
      "doc anh thanh cong thu muc: WithoutMask\n",
      "data/WithMask\n",
      "doc anh thanh cong thu muc: WithMask\n",
      "image_data train 5995\n",
      "Labels train 5995\n",
      "# of IncorrectlyWornMask A Mask: 2103\n"
     ]
    }
   ],
   "source": [
    "#đọc dữ liệu hình ảnh, chuyển đổi\n",
    "\n",
    "\n",
    "p = Path(\"data/\")\n",
    "dirs = p.glob(\"*\")\n",
    "labels_dict = {'IncorrectlyWornMask':0,'WithMask':1,'WithoutMask':2 }\n",
    "image_data = [] \n",
    "labels = []\n",
    "for folder_dir in dirs:\n",
    "    print(str(folder_dir))\n",
    "    label = str(folder_dir).split(\"/\")[-1]\n",
    "    print(\"doc anh thanh cong thu muc:\",label)\n",
    "    for img_path in folder_dir.glob(\"*\"):\n",
    "        try:\n",
    "            img = image.load_img(img_path, target_size=(32,32))\n",
    "            img_array = image.img_to_array(img)\n",
    "            image_data.append(img_array)\n",
    "            labels.append(labels_dict[label])\n",
    "        except:\n",
    "            continue\n",
    "        \n",
    "print(\"image_data train\",len(image_data))\n",
    "print(\"Labels train\",len(labels))\n",
    "print('# of IncorrectlyWornMask A Mask:', labels.count(0))\n",
    "\n"
   ]
  },
  {
   "attachments": {},
   "cell_type": "markdown",
   "metadata": {},
   "source": [
    "## Convert to Numpy Array"
   ]
  },
  {
   "cell_type": "code",
   "execution_count": 3,
   "metadata": {},
   "outputs": [],
   "source": [
    "image_data = np.array(image_data, dtype='float32')/255.0\n",
    "labels = np.array(labels)\n"
   ]
  },
  {
   "attachments": {},
   "cell_type": "markdown",
   "metadata": {},
   "source": [
    "## Plot Dataset Images"
   ]
  },
  {
   "cell_type": "code",
   "execution_count": 4,
   "metadata": {},
   "outputs": [],
   "source": [
    "\n",
    "M = image_data.shape[0]\n",
    "image_data = image_data.reshape(M,-1)\n",
    "\n"
   ]
  },
  {
   "attachments": {},
   "cell_type": "markdown",
   "metadata": {},
   "source": [
    "## Save Dataset as Pickles"
   ]
  },
  {
   "cell_type": "code",
   "execution_count": 5,
   "metadata": {},
   "outputs": [],
   "source": [
    "#Saves us from having to regenerate our data by saving our data\n",
    "pickle_out = open(\"pickle/X.pickle\", \"wb\")\n",
    "pickle.dump(image_data, pickle_out)\n",
    "pickle_out.close()\n",
    "\n",
    "pickle_out = open(\"pickle/y.pickle\", \"wb\")\n",
    "pickle.dump(labels, pickle_out)\n",
    "pickle_out.close()\n"
   ]
  },
  {
   "attachments": {},
   "cell_type": "markdown",
   "metadata": {},
   "source": [
    "## Load Pickles"
   ]
  },
  {
   "cell_type": "code",
   "execution_count": 6,
   "metadata": {},
   "outputs": [],
   "source": [
    "pickle_in = open(\"pickle/X.pickle\", \"rb\")\n",
    "X = pickle.load(pickle_in)\n",
    "pickle_in = open(\"pickle/y.pickle\", \"rb\")\n",
    "y = pickle.load(pickle_in)\n"
   ]
  },
  {
   "attachments": {},
   "cell_type": "markdown",
   "metadata": {},
   "source": [
    "## Total Classification Counts"
   ]
  },
  {
   "cell_type": "code",
   "execution_count": 7,
   "metadata": {},
   "outputs": [
    {
     "name": "stdout",
     "output_type": "stream",
     "text": [
      "# of Samples: 5995\n",
      "# of Without A Mask: 1910\n",
      "# of Incorrectly Worn Mask: 2103\n",
      "# of With A Mask: 1982\n"
     ]
    }
   ],
   "source": [
    "print('# of Samples:', len(y))\n",
    "print('# of Without A Mask:', (y == 2).sum())\n",
    "print('# of Incorrectly Worn Mask:', (y == 0).sum())\n",
    "print('# of With A Mask:', (y == 1).sum())"
   ]
  },
  {
   "attachments": {},
   "cell_type": "markdown",
   "metadata": {},
   "source": [
    "## Split Train and Test"
   ]
  },
  {
   "cell_type": "code",
   "execution_count": 8,
   "metadata": {},
   "outputs": [
    {
     "name": "stdout",
     "output_type": "stream",
     "text": [
      "Length of our Training data:  4796 \n",
      "Length of our Testing data:  1199\n"
     ]
    }
   ],
   "source": [
    "# Split our data into testing and training.\n",
    "X_train, X_test, y_train, y_test = train_test_split(X, y, test_size=0.2, random_state=100)\n",
    "\n",
    "# Print the length and width of our testing data.\n",
    "print('Length of our Training data: ',len(X_train), '\\nLength of our Testing data: ',len(X_test))"
   ]
  },
  {
   "cell_type": "code",
   "execution_count": 9,
   "metadata": {},
   "outputs": [
    {
     "data": {
      "text/plain": [
       "<Axes: xlabel='label', ylabel='count'>"
      ]
     },
     "execution_count": 9,
     "metadata": {},
     "output_type": "execute_result"
    },
    {
     "data": {
      "image/png": "[encoded data removed]",
      "text/plain": [
       "<Figure size 800x600 with 1 Axes>"
      ]
     },
     "metadata": {},
     "output_type": "display_data"
    }
   ],
   "source": [
    "#so sanh dữ liệu train\n",
    "df_labels = pd.DataFrame(\n",
    "    y_train,\n",
    "    columns=['label']\n",
    ")\n",
    "plt.figure(figsize=(8, 6))\n",
    "sns.countplot(data=df_labels, x='label')"
   ]
  }
 ],
 "metadata": {
  "kernelspec": {
   "display_name": "Python 3",
   "language": "python",
   "name": "python3"
  },
  "language_info": {
   "codemirror_mode": {
    "name": "ipython",
    "version": 3
   },
   "file_extension": ".py",
   "mimetype": "text/x-python",
   "name": "python",
   "nbconvert_exporter": "python",
   "pygments_lexer": "ipython3",
   "version": "3.11.3"
  }
 },
 "nbformat": 4,
 "nbformat_minor": 4
}
